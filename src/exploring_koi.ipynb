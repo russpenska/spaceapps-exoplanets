{
 "cells": [
  {
   "cell_type": "code",
   "execution_count": 6,
   "id": "93285856",
   "metadata": {},
   "outputs": [
    {
     "data": {
      "text/html": [
       "<div>\n",
       "<style scoped>\n",
       "    .dataframe tbody tr th:only-of-type {\n",
       "        vertical-align: middle;\n",
       "    }\n",
       "\n",
       "    .dataframe tbody tr th {\n",
       "        vertical-align: top;\n",
       "    }\n",
       "\n",
       "    .dataframe thead th {\n",
       "        text-align: right;\n",
       "    }\n",
       "</style>\n",
       "<table border=\"1\" class=\"dataframe\">\n",
       "  <thead>\n",
       "    <tr style=\"text-align: right;\">\n",
       "      <th></th>\n",
       "      <th>kepid</th>\n",
       "      <th>kepoi_name</th>\n",
       "      <th>kepler_name</th>\n",
       "      <th>koi_disposition</th>\n",
       "      <th>koi_pdisposition</th>\n",
       "      <th>koi_score</th>\n",
       "      <th>koi_fpflag_nt</th>\n",
       "      <th>koi_fpflag_ss</th>\n",
       "      <th>koi_fpflag_co</th>\n",
       "      <th>koi_fpflag_ec</th>\n",
       "      <th>...</th>\n",
       "      <th>koi_steff_err2</th>\n",
       "      <th>koi_slogg</th>\n",
       "      <th>koi_slogg_err1</th>\n",
       "      <th>koi_slogg_err2</th>\n",
       "      <th>koi_srad</th>\n",
       "      <th>koi_srad_err1</th>\n",
       "      <th>koi_srad_err2</th>\n",
       "      <th>ra</th>\n",
       "      <th>dec</th>\n",
       "      <th>koi_kepmag</th>\n",
       "    </tr>\n",
       "  </thead>\n",
       "  <tbody>\n",
       "    <tr>\n",
       "      <th>0</th>\n",
       "      <td>10797460</td>\n",
       "      <td>K00752.01</td>\n",
       "      <td>Kepler-227 b</td>\n",
       "      <td>CONFIRMED</td>\n",
       "      <td>CANDIDATE</td>\n",
       "      <td>1.000</td>\n",
       "      <td>0</td>\n",
       "      <td>0</td>\n",
       "      <td>0</td>\n",
       "      <td>0</td>\n",
       "      <td>...</td>\n",
       "      <td>-81.0</td>\n",
       "      <td>4.467</td>\n",
       "      <td>0.064</td>\n",
       "      <td>-0.096</td>\n",
       "      <td>0.927</td>\n",
       "      <td>0.105</td>\n",
       "      <td>-0.061</td>\n",
       "      <td>291.93423</td>\n",
       "      <td>48.141651</td>\n",
       "      <td>15.347</td>\n",
       "    </tr>\n",
       "    <tr>\n",
       "      <th>1</th>\n",
       "      <td>10797460</td>\n",
       "      <td>K00752.02</td>\n",
       "      <td>Kepler-227 c</td>\n",
       "      <td>CONFIRMED</td>\n",
       "      <td>CANDIDATE</td>\n",
       "      <td>0.969</td>\n",
       "      <td>0</td>\n",
       "      <td>0</td>\n",
       "      <td>0</td>\n",
       "      <td>0</td>\n",
       "      <td>...</td>\n",
       "      <td>-81.0</td>\n",
       "      <td>4.467</td>\n",
       "      <td>0.064</td>\n",
       "      <td>-0.096</td>\n",
       "      <td>0.927</td>\n",
       "      <td>0.105</td>\n",
       "      <td>-0.061</td>\n",
       "      <td>291.93423</td>\n",
       "      <td>48.141651</td>\n",
       "      <td>15.347</td>\n",
       "    </tr>\n",
       "    <tr>\n",
       "      <th>2</th>\n",
       "      <td>10811496</td>\n",
       "      <td>K00753.01</td>\n",
       "      <td>NaN</td>\n",
       "      <td>CANDIDATE</td>\n",
       "      <td>CANDIDATE</td>\n",
       "      <td>0.000</td>\n",
       "      <td>0</td>\n",
       "      <td>0</td>\n",
       "      <td>0</td>\n",
       "      <td>0</td>\n",
       "      <td>...</td>\n",
       "      <td>-176.0</td>\n",
       "      <td>4.544</td>\n",
       "      <td>0.044</td>\n",
       "      <td>-0.176</td>\n",
       "      <td>0.868</td>\n",
       "      <td>0.233</td>\n",
       "      <td>-0.078</td>\n",
       "      <td>297.00482</td>\n",
       "      <td>48.134129</td>\n",
       "      <td>15.436</td>\n",
       "    </tr>\n",
       "    <tr>\n",
       "      <th>3</th>\n",
       "      <td>10848459</td>\n",
       "      <td>K00754.01</td>\n",
       "      <td>NaN</td>\n",
       "      <td>FALSE POSITIVE</td>\n",
       "      <td>FALSE POSITIVE</td>\n",
       "      <td>0.000</td>\n",
       "      <td>0</td>\n",
       "      <td>1</td>\n",
       "      <td>0</td>\n",
       "      <td>0</td>\n",
       "      <td>...</td>\n",
       "      <td>-174.0</td>\n",
       "      <td>4.564</td>\n",
       "      <td>0.053</td>\n",
       "      <td>-0.168</td>\n",
       "      <td>0.791</td>\n",
       "      <td>0.201</td>\n",
       "      <td>-0.067</td>\n",
       "      <td>285.53461</td>\n",
       "      <td>48.285210</td>\n",
       "      <td>15.597</td>\n",
       "    </tr>\n",
       "    <tr>\n",
       "      <th>4</th>\n",
       "      <td>10854555</td>\n",
       "      <td>K00755.01</td>\n",
       "      <td>Kepler-664 b</td>\n",
       "      <td>CONFIRMED</td>\n",
       "      <td>CANDIDATE</td>\n",
       "      <td>1.000</td>\n",
       "      <td>0</td>\n",
       "      <td>0</td>\n",
       "      <td>0</td>\n",
       "      <td>0</td>\n",
       "      <td>...</td>\n",
       "      <td>-211.0</td>\n",
       "      <td>4.438</td>\n",
       "      <td>0.070</td>\n",
       "      <td>-0.210</td>\n",
       "      <td>1.046</td>\n",
       "      <td>0.334</td>\n",
       "      <td>-0.133</td>\n",
       "      <td>288.75488</td>\n",
       "      <td>48.226200</td>\n",
       "      <td>15.509</td>\n",
       "    </tr>\n",
       "  </tbody>\n",
       "</table>\n",
       "<p>5 rows × 49 columns</p>\n",
       "</div>"
      ],
      "text/plain": [
       "      kepid kepoi_name   kepler_name koi_disposition koi_pdisposition  \\\n",
       "0  10797460  K00752.01  Kepler-227 b       CONFIRMED        CANDIDATE   \n",
       "1  10797460  K00752.02  Kepler-227 c       CONFIRMED        CANDIDATE   \n",
       "2  10811496  K00753.01           NaN       CANDIDATE        CANDIDATE   \n",
       "3  10848459  K00754.01           NaN  FALSE POSITIVE   FALSE POSITIVE   \n",
       "4  10854555  K00755.01  Kepler-664 b       CONFIRMED        CANDIDATE   \n",
       "\n",
       "   koi_score  koi_fpflag_nt  koi_fpflag_ss  koi_fpflag_co  koi_fpflag_ec  ...  \\\n",
       "0      1.000              0              0              0              0  ...   \n",
       "1      0.969              0              0              0              0  ...   \n",
       "2      0.000              0              0              0              0  ...   \n",
       "3      0.000              0              1              0              0  ...   \n",
       "4      1.000              0              0              0              0  ...   \n",
       "\n",
       "   koi_steff_err2  koi_slogg  koi_slogg_err1  koi_slogg_err2  koi_srad  \\\n",
       "0           -81.0      4.467           0.064          -0.096     0.927   \n",
       "1           -81.0      4.467           0.064          -0.096     0.927   \n",
       "2          -176.0      4.544           0.044          -0.176     0.868   \n",
       "3          -174.0      4.564           0.053          -0.168     0.791   \n",
       "4          -211.0      4.438           0.070          -0.210     1.046   \n",
       "\n",
       "   koi_srad_err1  koi_srad_err2         ra        dec  koi_kepmag  \n",
       "0          0.105         -0.061  291.93423  48.141651      15.347  \n",
       "1          0.105         -0.061  291.93423  48.141651      15.347  \n",
       "2          0.233         -0.078  297.00482  48.134129      15.436  \n",
       "3          0.201         -0.067  285.53461  48.285210      15.597  \n",
       "4          0.334         -0.133  288.75488  48.226200      15.509  \n",
       "\n",
       "[5 rows x 49 columns]"
      ]
     },
     "execution_count": 6,
     "metadata": {},
     "output_type": "execute_result"
    }
   ],
   "source": [
    "import pandas as pd\n",
    "from sklearn.model_selection import train_test_split\n",
    "from sklearn.linear_model import LinearRegression\n",
    "from sklearn.preprocessing import PolynomialFeatures\n",
    "from sklearn.discriminant_analysis import StandardScaler\n",
    "import xgboost as xgb\n",
    "from sklearn.metrics import accuracy_score\n",
    "import matplotlib.pyplot as plt\n",
    "import seaborn as sns\n",
    "\n",
    "# read in the Kessler Objects of Interest (KOI) dataset\n",
    "# the first 53 lines are description\n",
    "df = pd.read_csv('../data/koi.csv', skiprows=53)\n",
    "df.head()"
   ]
  },
  {
   "cell_type": "markdown",
   "id": "1fa4e632",
   "metadata": {},
   "source": [
    "Making an assumption here that \"CANDIDATE\" doesn't tell us very much.\n",
    "We want to train a model to predict whether a row will be \"CONFIRMED\" or a \"FALSE POSITIVE\""
   ]
  },
  {
   "cell_type": "code",
   "execution_count": 7,
   "id": "5bf2ecb4",
   "metadata": {},
   "outputs": [],
   "source": [
    "# remove the \"CANDIDATE\" rows\n",
    "df = df[df['koi_disposition'] != 'CANDIDATE']"
   ]
  },
  {
   "cell_type": "markdown",
   "id": "9c95e053",
   "metadata": {},
   "source": [
    "We want to try and use the information we have about the exoplanet to predict the **koi_pdisposition** field."
   ]
  },
  {
   "cell_type": "code",
   "execution_count": 8,
   "id": "c611367b",
   "metadata": {},
   "outputs": [],
   "source": [
    "# these are the columns we are interested in using\n",
    "X = df[['koi_period', 'koi_time0bk', 'koi_impact', 'koi_duration', 'koi_depth', 'koi_prad', 'koi_teq', 'koi_insol', 'koi_model_snr', 'koi_steff', 'koi_slogg', 'koi_srad', 'koi_kepmag']]\n",
    "\n",
    "# replace missing values with the mean of the column\n",
    "X = X.fillna(X.mean())\n",
    "\n",
    "# we want to predict if the disposition is CONFIRMED\n",
    "y = df['koi_disposition'] == 'CONFIRMED'\n"
   ]
  },
  {
   "cell_type": "markdown",
   "id": "55e78928",
   "metadata": {},
   "source": [
    "Feature Engineering"
   ]
  },
  {
   "cell_type": "code",
   "execution_count": 9,
   "id": "66b68072",
   "metadata": {},
   "outputs": [],
   "source": [
    "scaler = StandardScaler()\n",
    "X = scaler.fit_transform(X)"
   ]
  },
  {
   "cell_type": "code",
   "execution_count": 10,
   "id": "345ececa",
   "metadata": {},
   "outputs": [],
   "source": [
    "# split the data into training and test sets\n",
    "X_train, X_test, y_train, y_test = train_test_split(X, y, test_size=0.3, random_state=42)"
   ]
  },
  {
   "cell_type": "markdown",
   "id": "74989f61",
   "metadata": {},
   "source": [
    "## Linear Regression"
   ]
  },
  {
   "cell_type": "code",
   "execution_count": 28,
   "id": "e25ba7e5",
   "metadata": {},
   "outputs": [
    {
     "name": "stdout",
     "output_type": "stream",
     "text": [
      "Linear Regression accuracy: 79.48%\n"
     ]
    }
   ],
   "source": [
    "lr_model = LinearRegression()\n",
    "lr_model.fit(X_train, y_train)\n",
    "\n",
    "lr_test_predictions = lr_model.predict(X_test) > 0.5\n",
    "print(f'Linear Regression accuracy: {100 *accuracy_score(y_test, lr_test_predictions):.2f}%')\n"
   ]
  },
  {
   "cell_type": "markdown",
   "id": "de49fad0",
   "metadata": {},
   "source": [
    "## Linear Regression with Polynomial Features"
   ]
  },
  {
   "cell_type": "code",
   "execution_count": null,
   "id": "232bc9d0",
   "metadata": {},
   "outputs": [
    {
     "name": "stdout",
     "output_type": "stream",
     "text": [
      "Linear Regression with Polynomial Features accuracy: 83.92%\n"
     ]
    },
    {
     "data": {
      "text/plain": [
       "array([ 3.38772287e-13, -3.22466487e-01,  5.62381771e-02, -4.42421347e-01,\n",
       "       -1.06429741e-01, -1.85631378e-01, -1.57412477e+00,  1.85081659e-01,\n",
       "       -9.40901172e+00, -7.29650392e-02, -8.62278554e-02, -1.94631070e-01,\n",
       "       -2.48852958e-01, -1.81715114e-02,  6.89848696e-02, -2.09153666e-03,\n",
       "        2.64629691e-01,  2.97375572e-02,  3.66556415e-02, -3.75965002e+00,\n",
       "        1.19527221e+00, -1.91243076e+01,  3.15416247e-02, -1.97731416e-02,\n",
       "        4.68358474e-02, -3.17506085e-02,  2.96961578e-02, -4.49409798e-03,\n",
       "        1.77939131e-02, -1.19211126e-03,  7.30334564e-03,  6.36550249e-02,\n",
       "        1.24186864e-02,  6.77549524e-02, -2.78979660e-03, -7.93224115e-03,\n",
       "        1.29523270e-02, -5.46955639e-04, -2.27786867e-02,  2.20880232e-02,\n",
       "        3.30985344e-03,  2.08449255e-01,  1.86149503e-01,  2.39167876e-01,\n",
       "        8.62707520e-02, -4.35192293e-02, -1.47047586e-01,  1.60355384e-01,\n",
       "        2.49164564e-02,  7.91735145e-02,  3.74311500e-03,  4.56068655e-02,\n",
       "        9.97857837e-02, -2.98628492e-02,  1.42490538e-01, -1.73717571e-02,\n",
       "        4.48979983e-02, -3.38385025e-02, -1.49070464e-02, -5.57557097e-03,\n",
       "        1.59883446e-02, -1.43961372e+00,  9.85122421e-02, -1.09061766e-01,\n",
       "        1.44456613e-02, -2.24467631e-02, -1.40581942e-02, -1.76792640e-01,\n",
       "        1.45511909e-02,  2.20711765e-02, -1.70740867e+00,  1.39194768e+00,\n",
       "        1.10359244e+00,  1.05884284e+00, -1.67950829e+00, -5.44755851e-01,\n",
       "        1.80165448e-01,  1.53152793e-02,  1.07114003e-01,  5.00069880e-02,\n",
       "        8.83426387e-02, -1.42915407e-01,  1.18779038e-03, -1.08759795e-02,\n",
       "       -8.53547154e-03, -3.32897116e-01, -7.74449639e-02,  8.28267667e-02,\n",
       "       -1.46725675e-02,  7.57401528e-02,  4.86125352e-03,  8.07567869e-03,\n",
       "        4.00192594e-02,  7.91368219e-02, -1.19400357e-02, -1.11588075e-02,\n",
       "        5.95725907e-02,  5.40460847e-03, -4.83799641e-03, -1.25618565e-01,\n",
       "       -7.13874936e-02, -5.42195281e-02, -7.39598636e-03, -9.64735753e-02,\n",
       "       -3.40486418e-03])"
      ]
     },
     "execution_count": 31,
     "metadata": {},
     "output_type": "execute_result"
    }
   ],
   "source": [
    "poly_features = PolynomialFeatures(degree=2)\n",
    "X_train_poly = poly_features.fit_transform(X_train)\n",
    "\n",
    "lr_wp_model = LinearRegression()\n",
    "lr_wp_model.fit(X_train_poly, y_train)\n",
    "\n",
    "X_test_poly = poly_features.transform(X_test)\n",
    "lr_wp_test_predictions = lr_wp_model.predict(X_test_poly) >= 0.5\n",
    "print(f'Linear Regression with Polynomial Features accuracy: {100 *accuracy_score(y_test, lr_wp_test_predictions):.2f}%')"
   ]
  },
  {
   "cell_type": "code",
   "execution_count": 32,
   "id": "dfdbd06f",
   "metadata": {},
   "outputs": [
    {
     "name": "stdout",
     "output_type": "stream",
     "text": [
      "XGBoost accuracy: 92.71%\n"
     ]
    }
   ],
   "source": [
    "\n",
    "xgb_model = xgb.XGBClassifier(eval_metric='logloss')\n",
    "xgb_model.fit(X_train, y_train)\n",
    "\n",
    "y_pred = xgb_model.predict(X_test)\n",
    "accuracy_score(y_test, y_pred)\n",
    "print(f'XGBoost accuracy: {100 * accuracy_score(y_test, y_pred):.2f}%')\n"
   ]
  }
 ],
 "metadata": {
  "kernelspec": {
   "display_name": ".venv (3.13.2)",
   "language": "python",
   "name": "python3"
  },
  "language_info": {
   "codemirror_mode": {
    "name": "ipython",
    "version": 3
   },
   "file_extension": ".py",
   "mimetype": "text/x-python",
   "name": "python",
   "nbconvert_exporter": "python",
   "pygments_lexer": "ipython3",
   "version": "3.13.2"
  }
 },
 "nbformat": 4,
 "nbformat_minor": 5
}
